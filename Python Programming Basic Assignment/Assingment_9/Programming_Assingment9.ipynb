{
 "cells": [
  {
   "cell_type": "markdown",
   "metadata": {},
   "source": [
    "### 1.\tWrite a Python program to check if the given number is a Disarium Number?"
   ]
  },
  {
   "cell_type": "code",
   "execution_count": null,
   "metadata": {},
   "outputs": [],
   "source": [
    "def disariumm(n):\n",
    "    if n >= 0:\n",
    "        n_copy = str(n)\n",
    "        mt = [int(n_copy[i])**(i+1) for i in range(len(n_copy))]\n",
    "        if sum(mt) == n:\n",
    "            print(\"its dasarium number\")\n",
    "        else:\n",
    "            print(\"it not dasarium number\")\n",
    "    else:\n",
    "        print(\"enter number grater than or equal to 0\")"
   ]
  },
  {
   "cell_type": "code",
   "execution_count": null,
   "metadata": {},
   "outputs": [],
   "source": [
    "disariumm(89), disariumm(10)"
   ]
  },
  {
   "cell_type": "markdown",
   "metadata": {},
   "source": [
    "### 2.\tWrite a Python program to print all disarium numbers between 1 to 100?"
   ]
  },
  {
   "cell_type": "code",
   "execution_count": null,
   "metadata": {},
   "outputs": [],
   "source": [
    "def disariumm_range(lower, upper):\n",
    "    if lower > 0 and upper > 0:\n",
    "        for i in range(lower,upper):\n",
    "            count = 1\n",
    "            mt = []\n",
    "            for j in str(i):\n",
    "                mt.append(int(j)**count)\n",
    "                count+=1\n",
    "            if sum(mt) == i:\n",
    "                print(i, \"is a disariumm number\")\n",
    "    else:\n",
    "        print(\"Please enter positive range\")\n",
    "            "
   ]
  },
  {
   "cell_type": "code",
   "execution_count": null,
   "metadata": {},
   "outputs": [],
   "source": [
    "disariumm_range(1,100)"
   ]
  },
  {
   "cell_type": "markdown",
   "metadata": {},
   "source": [
    "### 3.\tWrite a Python program to check if the given number is Happy Number?"
   ]
  },
  {
   "cell_type": "code",
   "execution_count": null,
   "metadata": {},
   "outputs": [],
   "source": [
    "def happy(n):\n",
    "    num = 0\n",
    "    for i in str(n):\n",
    "        num += int(i)**2\n",
    "    if num == 1 or n == 1:\n",
    "        print(\"Is a happy number\")\n",
    "    elif num == 4 or n == 4:\n",
    "        print(\"Is not a happy number\")\n",
    "    else:\n",
    "        happy(num)"
   ]
  },
  {
   "cell_type": "code",
   "execution_count": null,
   "metadata": {},
   "outputs": [],
   "source": [
    "happy(10), happy(13), happy(14)"
   ]
  },
  {
   "cell_type": "markdown",
   "metadata": {},
   "source": [
    "### 4.\tWrite a Python program to print all happy numbers between 1 and 100?"
   ]
  },
  {
   "cell_type": "code",
   "execution_count": null,
   "metadata": {},
   "outputs": [],
   "source": [
    "def check_happy_num(my_num):\n",
    "    \n",
    "   remaining = sum_val = 0\n",
    "   while(my_num > 0):\n",
    "      remaining = my_num%10\n",
    "      sum_val = sum_val + (remaining*remaining)\n",
    "      my_num = my_num//10\n",
    "   return sum_val\n",
    "\n",
    "\n",
    "for i in range(1, 101):\n",
    "   my_result = i\n",
    "   while(my_result != 1 and my_result != 4):\n",
    "      my_result = check_happy_num(my_result)\n",
    "   if(my_result == 1):\n",
    "      print(i)"
   ]
  },
  {
   "cell_type": "markdown",
   "metadata": {},
   "source": [
    "### 5.\tWrite a Python program to determine whether the given number is a Harshad Number?"
   ]
  },
  {
   "cell_type": "code",
   "execution_count": null,
   "metadata": {},
   "outputs": [],
   "source": [
    "def harshd_number(n):\n",
    "    add = 0\n",
    "    for i in str(n):\n",
    "        add += int(i)\n",
    "    if n%add == 0:\n",
    "        return(\"its a harshad number\")\n",
    "    else:\n",
    "        return(\"its not a harshad number\")\n",
    "        "
   ]
  },
  {
   "cell_type": "code",
   "execution_count": 8,
   "metadata": {},
   "outputs": [
    {
     "name": "stdout",
     "output_type": "stream",
     "text": [
      "1 its a harshad number\n",
      "2 its a harshad number\n",
      "3 its a harshad number\n",
      "4 its a harshad number\n",
      "5 its a harshad number\n",
      "6 its a harshad number\n",
      "7 its a harshad number\n",
      "8 its a harshad number\n",
      "9 its a harshad number\n",
      "10 its a harshad number\n",
      "11 its not a harshad number\n",
      "12 its a harshad number\n",
      "13 its not a harshad number\n",
      "14 its not a harshad number\n",
      "15 its not a harshad number\n",
      "16 its not a harshad number\n",
      "17 its not a harshad number\n",
      "18 its a harshad number\n",
      "19 its not a harshad number\n",
      "20 its a harshad number\n",
      "21 its a harshad number\n",
      "22 its not a harshad number\n",
      "23 its not a harshad number\n",
      "24 its a harshad number\n",
      "25 its not a harshad number\n",
      "26 its not a harshad number\n",
      "27 its a harshad number\n",
      "28 its not a harshad number\n",
      "29 its not a harshad number\n"
     ]
    }
   ],
   "source": [
    "for j in range(1,30):\n",
    "    print(j, harshd_number(j))"
   ]
  },
  {
   "cell_type": "markdown",
   "metadata": {},
   "source": [
    "### 6.\tWrite a Python program to print all pronic numbers between 1 and 100?"
   ]
  },
  {
   "cell_type": "code",
   "execution_count": 14,
   "metadata": {},
   "outputs": [
    {
     "name": "stdout",
     "output_type": "stream",
     "text": [
      "Pronic numbers between 1 and 100: \n",
      "2\n",
      "6\n",
      "12\n",
      "20\n",
      "30\n",
      "42\n",
      "56\n",
      "72\n",
      "90\n"
     ]
    }
   ],
   "source": [
    "def isPronicNumber(num):\n",
    "    flag = False;\n",
    "    for j in range(1, num+1):\n",
    "        if((j*(j+1)) == num):\n",
    "            flag = True;\n",
    "            break;\n",
    "    return flag;\n",
    "\n",
    "for i in range(1, 101):\n",
    "    if(isPronicNumber(i)):\n",
    "        print(i)"
   ]
  },
  {
   "cell_type": "code",
   "execution_count": null,
   "metadata": {},
   "outputs": [],
   "source": []
  }
 ],
 "metadata": {
  "kernelspec": {
   "display_name": "Python 3",
   "language": "python",
   "name": "python3"
  },
  "language_info": {
   "codemirror_mode": {
    "name": "ipython",
    "version": 3
   },
   "file_extension": ".py",
   "mimetype": "text/x-python",
   "name": "python",
   "nbconvert_exporter": "python",
   "pygments_lexer": "ipython3",
   "version": "3.8.3"
  }
 },
 "nbformat": 4,
 "nbformat_minor": 4
}

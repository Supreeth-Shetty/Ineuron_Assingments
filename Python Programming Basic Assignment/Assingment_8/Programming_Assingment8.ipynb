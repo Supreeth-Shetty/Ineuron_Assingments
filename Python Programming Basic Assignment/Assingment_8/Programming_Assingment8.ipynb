{
 "cells": [
  {
   "cell_type": "markdown",
   "metadata": {},
   "source": [
    "### 1.\tWrite a Python Program to Add Two Matrices?"
   ]
  },
  {
   "cell_type": "code",
   "execution_count": 69,
   "metadata": {},
   "outputs": [],
   "source": [
    "def add_metrices(X, Y):\n",
    "    x, y = X, Y\n",
    "    result = []\n",
    "    \n",
    "    if len(x) == len(y) and len(x[0]) == len(y[0]):\n",
    "        for i in range(len(x)):\n",
    "            result.append([])\n",
    "        for i in range(len(x)):\n",
    "            for j in range(len(x[0])):\n",
    "                result[i].extend([x[i][j] + y[i][j]])\n",
    "        for r in result:\n",
    "            print(r)\n",
    "    else:\n",
    "        print(\"Two matrices can be added only if they have the same dimension\")"
   ]
  },
  {
   "cell_type": "code",
   "execution_count": 70,
   "metadata": {},
   "outputs": [
    {
     "name": "stdout",
     "output_type": "stream",
     "text": [
      "[17, 15, 4]\n",
      "[10, 12, 9]\n",
      "[11, 13, 18]\n",
      "[2, 4, 6]\n"
     ]
    }
   ],
   "source": [
    "add_metrices([[12, 7, 3], [4, 5, 6], [7, 8, 9],[1, 2, 3]],\n",
    "             [[5, 8, 1],[6, 7, 3],[4, 5, 9],[1, 2, 3]] )"
   ]
  },
  {
   "cell_type": "markdown",
   "metadata": {},
   "source": [
    "### 2.\tWrite a Python Program to Multiply Two Matrices?"
   ]
  },
  {
   "cell_type": "code",
   "execution_count": 199,
   "metadata": {},
   "outputs": [],
   "source": [
    "def mat_mul(x,y): \n",
    "    result = []\n",
    "    \n",
    "    if len(x[0]) == len(y):\n",
    "        for i in range(len(x)):\n",
    "            result.append([])\n",
    "            for j in range(len(y[0])):\n",
    "                result[i].extend([0])\n",
    "\n",
    "        for i in range(len(x)):\n",
    "            for j in range(len(y[0])):\n",
    "                for k in range(len(y)):\n",
    "                    result[i][j] += a[i][k] * b[k][j]\n",
    "        print(result)\n",
    "    else:\n",
    "        print(\"Two matrices can be multiplied only if 1st mat columuns is same as 2nd mat rows\")"
   ]
  },
  {
   "cell_type": "code",
   "execution_count": 200,
   "metadata": {},
   "outputs": [],
   "source": [
    "a = [[3,4,2]]\n",
    "b = [[13, 9, 7, 15], [8, 7, 4, 6], [6, 4, 0, 3]]"
   ]
  },
  {
   "cell_type": "code",
   "execution_count": 201,
   "metadata": {},
   "outputs": [
    {
     "name": "stdout",
     "output_type": "stream",
     "text": [
      "[[83, 63, 37, 75]]\n"
     ]
    }
   ],
   "source": [
    "mat_mul(a,b)"
   ]
  },
  {
   "cell_type": "markdown",
   "metadata": {},
   "source": [
    "### 3.\tWrite a Python Program to Transpose a Matrix?"
   ]
  },
  {
   "cell_type": "code",
   "execution_count": 241,
   "metadata": {},
   "outputs": [],
   "source": [
    "a = [[13, 9, 7, 15], [8, 7, 4, 6], [6, 4, 0, 3]]"
   ]
  },
  {
   "cell_type": "code",
   "execution_count": 244,
   "metadata": {},
   "outputs": [],
   "source": [
    "def mat_trans(a):\n",
    "    result = []\n",
    "    for i in range(len(a[0])):\n",
    "        result.append([])\n",
    "        for j in range(len(a)):\n",
    "            result[i].extend([0])\n",
    "    for i in range(len(a)):\n",
    "        for j in range(len(a[0])):\n",
    "            result[j][i] = a[i][j]\n",
    "    return result"
   ]
  },
  {
   "cell_type": "code",
   "execution_count": 245,
   "metadata": {},
   "outputs": [
    {
     "data": {
      "text/plain": [
       "[[13, 8, 6], [9, 7, 4], [7, 4, 0], [15, 6, 3]]"
      ]
     },
     "execution_count": 245,
     "metadata": {},
     "output_type": "execute_result"
    }
   ],
   "source": [
    "mat_trans(a)"
   ]
  },
  {
   "cell_type": "markdown",
   "metadata": {},
   "source": [
    "### 4.\tWrite a Python Program to Sort Words in Alphabetic Order?"
   ]
  },
  {
   "cell_type": "code",
   "execution_count": 264,
   "metadata": {},
   "outputs": [],
   "source": [
    "def sort_words():\n",
    "    string = input(\"Enter a sentetence :\")\n",
    "    words = [word.lower() for word in string.split()]\n",
    "    words.sort()\n",
    "    return [print(i) for i in words]\n",
    "                "
   ]
  },
  {
   "cell_type": "code",
   "execution_count": 274,
   "metadata": {},
   "outputs": [
    {
     "name": "stdout",
     "output_type": "stream",
     "text": [
      "Enter a sentetence :To understand this example, you should have the knowledge of the following Python\n",
      "example,\n",
      "following\n",
      "have\n",
      "knowledge\n",
      "of\n",
      "python\n",
      "should\n",
      "the\n",
      "the\n",
      "this\n",
      "to\n",
      "understand\n",
      "you\n"
     ]
    },
    {
     "data": {
      "text/plain": [
       "[None, None, None, None, None, None, None, None, None, None, None, None, None]"
      ]
     },
     "execution_count": 274,
     "metadata": {},
     "output_type": "execute_result"
    }
   ],
   "source": [
    "sort_words()"
   ]
  },
  {
   "cell_type": "markdown",
   "metadata": {},
   "source": [
    "### 5.\tWrite a Python Program to Remove Punctuation From a String?"
   ]
  },
  {
   "cell_type": "code",
   "execution_count": 272,
   "metadata": {},
   "outputs": [],
   "source": [
    "def remove_panctuation():\n",
    "    punctuations = '''!()-[]{};:'\"\\,<>./?@#$%^&*_~'''\n",
    "    \n",
    "    string = input(\"Enter your string :\")\n",
    "    new_line = \"\" \n",
    "    for char in string:\n",
    "        if char not in punctuations:\n",
    "            new_line = new_line + char\n",
    "    return new_line"
   ]
  },
  {
   "cell_type": "code",
   "execution_count": 273,
   "metadata": {},
   "outputs": [
    {
     "name": "stdout",
     "output_type": "stream",
     "text": [
      "Enter your string :\"Hello!!!\", he said ---and went.\n"
     ]
    },
    {
     "data": {
      "text/plain": [
       "'Hello he said and went'"
      ]
     },
     "execution_count": 273,
     "metadata": {},
     "output_type": "execute_result"
    }
   ],
   "source": [
    "remove_panctuation()"
   ]
  },
  {
   "cell_type": "code",
   "execution_count": null,
   "metadata": {},
   "outputs": [],
   "source": []
  }
 ],
 "metadata": {
  "kernelspec": {
   "display_name": "Python 3",
   "language": "python",
   "name": "python3"
  },
  "language_info": {
   "codemirror_mode": {
    "name": "ipython",
    "version": 3
   },
   "file_extension": ".py",
   "mimetype": "text/x-python",
   "name": "python",
   "nbconvert_exporter": "python",
   "pygments_lexer": "ipython3",
   "version": "3.8.3"
  }
 },
 "nbformat": 4,
 "nbformat_minor": 4
}

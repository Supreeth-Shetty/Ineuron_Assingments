{
 "cells": [
  {
   "cell_type": "markdown",
   "metadata": {},
   "source": [
    "### 1.\tWrite a Python program to find sum of elements in list?"
   ]
  },
  {
   "cell_type": "code",
   "execution_count": 178,
   "metadata": {},
   "outputs": [
    {
     "name": "stdout",
     "output_type": "stream",
     "text": [
      "Sum of all the elements in list is : 151\n"
     ]
    }
   ],
   "source": [
    "lis = [1,2,3,4,5,5,8,6,7,10,100]\n",
    "total = 0\n",
    "for i in lis:\n",
    "    total += i\n",
    "print(\"Sum of all the elements in list is :\",total)    "
   ]
  },
  {
   "cell_type": "markdown",
   "metadata": {},
   "source": [
    "### 2.\tWrite a Python program to  Multiply all numbers in the list?"
   ]
  },
  {
   "cell_type": "code",
   "execution_count": 179,
   "metadata": {},
   "outputs": [
    {
     "name": "stdout",
     "output_type": "stream",
     "text": [
      "product of all the elements in list is : 720\n"
     ]
    }
   ],
   "source": [
    "lis = [1, 2, 3, 4, 5, 6]\n",
    "total = 1\n",
    "for i in lis:\n",
    "    total *= i\n",
    "print(\"product of all the elements in list is :\", total)    "
   ]
  },
  {
   "cell_type": "markdown",
   "metadata": {},
   "source": [
    "### 3.\tWrite a Python program to find smallest number in a list?"
   ]
  },
  {
   "cell_type": "code",
   "execution_count": 182,
   "metadata": {},
   "outputs": [
    {
     "name": "stdout",
     "output_type": "stream",
     "text": [
      "The smallest number in the given list is -30\n"
     ]
    }
   ],
   "source": [
    "lis = [-1, 2,3,10,30,5,4,1,100,0,-3,-20,-30]\n",
    "smallest = 0\n",
    "for i in range(len(lis)):\n",
    "    if smallest > lis[i]:\n",
    "        smallest = lis[i]\n",
    "print(\"The smallest number in the given list is\",smallest)\n",
    "\n"
   ]
  },
  {
   "cell_type": "markdown",
   "metadata": {},
   "source": [
    "### 4.\tWrite a Python program to find largest number in a list?"
   ]
  },
  {
   "cell_type": "code",
   "execution_count": 183,
   "metadata": {},
   "outputs": [
    {
     "name": "stdout",
     "output_type": "stream",
     "text": [
      "The largest number in the given list is 2000\n"
     ]
    }
   ],
   "source": [
    "lis = [-1, 2,3,10,30,5,4,1,100,0,-3,-20,2000]\n",
    "largest = 0\n",
    "for i in range(len(lis)):\n",
    "    if largest < lis[i]:\n",
    "        largest = lis[i]\n",
    "print(\"The largest number in the given list is\",largest)\n",
    "\n"
   ]
  },
  {
   "cell_type": "markdown",
   "metadata": {},
   "source": [
    "### 5.Write a Python program to find second largest number in a list?"
   ]
  },
  {
   "cell_type": "code",
   "execution_count": 185,
   "metadata": {},
   "outputs": [
    {
     "name": "stdout",
     "output_type": "stream",
     "text": [
      "The 2nd largest number in the given list is 1999\n"
     ]
    }
   ],
   "source": [
    "lis = [-1, 2,3,10,30,5,4,1,100,0,-3,-20,2000,1000,1500,1999]\n",
    "largest = 0\n",
    "largest_2 = 0\n",
    "for i in range(len(lis)):\n",
    "    if largest_2 < lis[i]:\n",
    "        largest_2 = lis[i]\n",
    "    if largest_2 > largest:\n",
    "        largest, largest_2 = largest_2, largest\n",
    "print(\"The 2nd largest number in the given list is\",largest_2)\n"
   ]
  },
  {
   "cell_type": "markdown",
   "metadata": {},
   "source": [
    "### 6.\tWrite a Python program to find N largest elements from a list?"
   ]
  },
  {
   "cell_type": "code",
   "execution_count": 132,
   "metadata": {},
   "outputs": [],
   "source": [
    "def n_largest(lis_, N):\n",
    "    new = []\n",
    "    for i in range(N):\n",
    "        largest = 0\n",
    "        for j in range(len(lis)):\n",
    "            if largest < lis[j]:\n",
    "                largest = lis[j]\n",
    "        new.append(largest)\n",
    "        lis.remove(largest)\n",
    "    print(f\"{N} largest numbers in given list are :\", new)"
   ]
  },
  {
   "cell_type": "code",
   "execution_count": 135,
   "metadata": {},
   "outputs": [
    {
     "name": "stdout",
     "output_type": "stream",
     "text": [
      "3 largest numbers in given list are : [10000, 3000, 2000]\n"
     ]
    }
   ],
   "source": [
    "lis = [10000,-1, 2,3,10,30,5,4,1,100,0,-3,-20,2000,1000, 1500, 3000]\n",
    "n_largest(lis,3)"
   ]
  },
  {
   "cell_type": "markdown",
   "metadata": {},
   "source": [
    "### 7.\tWrite a Python program to print even numbers in a list?"
   ]
  },
  {
   "cell_type": "code",
   "execution_count": 136,
   "metadata": {},
   "outputs": [],
   "source": [
    "def even_num(lis):\n",
    "    for i in lis:\n",
    "        if i%2 == 0:\n",
    "            print(i)"
   ]
  },
  {
   "cell_type": "code",
   "execution_count": 137,
   "metadata": {},
   "outputs": [
    {
     "name": "stdout",
     "output_type": "stream",
     "text": [
      "2\n",
      "4\n",
      "6\n",
      "8\n",
      "10\n"
     ]
    }
   ],
   "source": [
    "lis = [1,2,3,4,5,6,7,8,9,10,11]\n",
    "even_num(lis)"
   ]
  },
  {
   "cell_type": "markdown",
   "metadata": {},
   "source": [
    "### 8.\tWrite a Python program to print odd numbers in a List?"
   ]
  },
  {
   "cell_type": "code",
   "execution_count": 138,
   "metadata": {},
   "outputs": [],
   "source": [
    "def odd_num(lis):\n",
    "    for i in lis:\n",
    "        if i%2 != 0:\n",
    "            print(i)"
   ]
  },
  {
   "cell_type": "code",
   "execution_count": 139,
   "metadata": {},
   "outputs": [
    {
     "name": "stdout",
     "output_type": "stream",
     "text": [
      "1\n",
      "3\n",
      "5\n",
      "7\n",
      "9\n",
      "11\n"
     ]
    }
   ],
   "source": [
    "lis = [1,2,3,4,5,6,7,8,9,10,11]\n",
    "odd_num(lis)"
   ]
  },
  {
   "cell_type": "markdown",
   "metadata": {},
   "source": [
    "### 9.\tWrite a Python program to Remove empty List from List?"
   ]
  },
  {
   "cell_type": "code",
   "execution_count": 148,
   "metadata": {},
   "outputs": [],
   "source": [
    "def rem_mtlis(L):\n",
    "    \n",
    "    for i in lis:\n",
    "        if type(i) == list:\n",
    "            if len(i) == 0:\n",
    "                lis.remove(i)\n",
    "    return L\n",
    "            "
   ]
  },
  {
   "cell_type": "code",
   "execution_count": 149,
   "metadata": {},
   "outputs": [
    {
     "data": {
      "text/plain": [
       "[1, 2, 3, 4, 5, 5, [1, 2, 4], [1, 2]]"
      ]
     },
     "execution_count": 149,
     "metadata": {},
     "output_type": "execute_result"
    }
   ],
   "source": [
    "lis = [1,2,3,4,5,5,[1,2,4], [], [1,2], []]\n",
    "rem_mtlis(lis)"
   ]
  },
  {
   "cell_type": "markdown",
   "metadata": {},
   "source": [
    "### 10.\tWrite a Python program to Cloning or Copying a list?"
   ]
  },
  {
   "cell_type": "code",
   "execution_count": 175,
   "metadata": {},
   "outputs": [],
   "source": [
    "def cloning(L):\n",
    "    L_copy = L.copy()\n",
    "    return(L_copy)"
   ]
  },
  {
   "cell_type": "code",
   "execution_count": 176,
   "metadata": {},
   "outputs": [],
   "source": [
    "lis1 = [1,2,3,4,5,6]\n",
    "lis2 = cloning(lis1)"
   ]
  },
  {
   "cell_type": "code",
   "execution_count": 177,
   "metadata": {},
   "outputs": [
    {
     "data": {
      "text/plain": [
       "[1, 2, 3, 4, 5, 6]"
      ]
     },
     "execution_count": 177,
     "metadata": {},
     "output_type": "execute_result"
    }
   ],
   "source": [
    "lis2"
   ]
  },
  {
   "cell_type": "markdown",
   "metadata": {},
   "source": [
    "### 11.\tWrite a Python program to Count occurrences of an element in a list?"
   ]
  },
  {
   "cell_type": "code",
   "execution_count": 163,
   "metadata": {},
   "outputs": [],
   "source": [
    "lis = [1,2,2,3,3,3,11,5,6,6,7,7,7,9,9,9,\"a\", \"b\", \"a\"]"
   ]
  },
  {
   "cell_type": "code",
   "execution_count": 164,
   "metadata": {},
   "outputs": [],
   "source": [
    "def occurrence(L):\n",
    "    d = {}\n",
    "    for i in L:\n",
    "        if i in d:\n",
    "            d[i] += 1\n",
    "        else:\n",
    "            d[i] = 1\n",
    "    for k, v in d.items():\n",
    "        print(f\"The element {k} has occurred {v} times\")"
   ]
  },
  {
   "cell_type": "code",
   "execution_count": 165,
   "metadata": {},
   "outputs": [
    {
     "name": "stdout",
     "output_type": "stream",
     "text": [
      "The element 1 has occurred 1 times\n",
      "The element 2 has occurred 2 times\n",
      "The element 3 has occurred 3 times\n",
      "The element 11 has occurred 1 times\n",
      "The element 5 has occurred 1 times\n",
      "The element 6 has occurred 2 times\n",
      "The element 7 has occurred 3 times\n",
      "The element 9 has occurred 3 times\n",
      "The element a has occurred 2 times\n",
      "The element b has occurred 1 times\n"
     ]
    }
   ],
   "source": [
    "occurrence(lis)"
   ]
  },
  {
   "cell_type": "code",
   "execution_count": null,
   "metadata": {},
   "outputs": [],
   "source": []
  }
 ],
 "metadata": {
  "kernelspec": {
   "display_name": "Python 3",
   "language": "python",
   "name": "python3"
  },
  "language_info": {
   "codemirror_mode": {
    "name": "ipython",
    "version": 3
   },
   "file_extension": ".py",
   "mimetype": "text/x-python",
   "name": "python",
   "nbconvert_exporter": "python",
   "pygments_lexer": "ipython3",
   "version": "3.8.3"
  }
 },
 "nbformat": 4,
 "nbformat_minor": 4
}

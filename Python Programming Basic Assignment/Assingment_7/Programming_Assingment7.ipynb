{
 "cells": [
  {
   "cell_type": "markdown",
   "metadata": {},
   "source": [
    "### 1.\tWrite a Python Program to find sum of array?"
   ]
  },
  {
   "cell_type": "code",
   "execution_count": 37,
   "metadata": {},
   "outputs": [],
   "source": [
    "def array_sum(lis):\n",
    "    if type(lis) == list:       \n",
    "        sum = 0\n",
    "        for i in lis:\n",
    "            sum = sum + i\n",
    "        return f\"sum of array is {sum}\"\n",
    "    else:\n",
    "        return \"only list type is accpeted\"\n"
   ]
  },
  {
   "cell_type": "code",
   "execution_count": 38,
   "metadata": {},
   "outputs": [
    {
     "data": {
      "text/plain": [
       "'sum of array is 34'"
      ]
     },
     "execution_count": 38,
     "metadata": {},
     "output_type": "execute_result"
    }
   ],
   "source": [
    "array_sum([12,3,4,15])"
   ]
  },
  {
   "cell_type": "markdown",
   "metadata": {},
   "source": [
    "### 2.\tWrite a Python Program to find largest element in an array?"
   ]
  },
  {
   "cell_type": "code",
   "execution_count": 39,
   "metadata": {},
   "outputs": [],
   "source": [
    "def array_large(lis):\n",
    "    if type(lis) == list:\n",
    "        lis.sort()\n",
    "        return f\"largest element in the array is {lis[-1]}\"\n",
    "    else:\n",
    "        return f\"only list is accepted\""
   ]
  },
  {
   "cell_type": "code",
   "execution_count": 40,
   "metadata": {},
   "outputs": [
    {
     "data": {
      "text/plain": [
       "'largest element in the array is 15'"
      ]
     },
     "execution_count": 40,
     "metadata": {},
     "output_type": "execute_result"
    }
   ],
   "source": [
    "array_large([12,3,4,15])"
   ]
  },
  {
   "cell_type": "code",
   "execution_count": 36,
   "metadata": {},
   "outputs": [
    {
     "data": {
      "text/plain": [
       "'only list is accepted'"
      ]
     },
     "execution_count": 36,
     "metadata": {},
     "output_type": "execute_result"
    }
   ],
   "source": [
    "array_large((12,3,4,15))"
   ]
  },
  {
   "cell_type": "markdown",
   "metadata": {},
   "source": [
    "### 3.\tWrite a Python Program for array rotation?"
   ]
  },
  {
   "cell_type": "code",
   "execution_count": 73,
   "metadata": {},
   "outputs": [],
   "source": [
    "def arr_rotate(arr, direction, size):\n",
    "    if type(arr) == list:\n",
    "        if direction == 'right':\n",
    "            for i in range(size):\n",
    "                ele = arr.pop()\n",
    "                arr.insert(0, ele)\n",
    "            return f\"{direction} rotation of array is {arr}\"\n",
    "        if direction == 'left':\n",
    "            for i in range(size):\n",
    "                ele = arr.pop(0)\n",
    "                arr.append(ele)\n",
    "        return f\"{direction} rotation of array is {arr}\"\n",
    "    else:\n",
    "        return \"only list is allowed\"\n",
    " "
   ]
  },
  {
   "cell_type": "code",
   "execution_count": 75,
   "metadata": {},
   "outputs": [
    {
     "data": {
      "text/plain": [
       "'only list is allowed'"
      ]
     },
     "execution_count": 75,
     "metadata": {},
     "output_type": "execute_result"
    }
   ],
   "source": [
    "arr_rotate((1,2,3,4,5,6,7,8), 'left', 3)"
   ]
  },
  {
   "cell_type": "code",
   "execution_count": 67,
   "metadata": {},
   "outputs": [
    {
     "data": {
      "text/plain": [
       "'right rotation of array is [6, 7, 8, 1, 2, 3, 4, 5]'"
      ]
     },
     "execution_count": 67,
     "metadata": {},
     "output_type": "execute_result"
    }
   ],
   "source": [
    "arr_rotate([1,2,3,4,5,6,7,8], 'right', 3)"
   ]
  },
  {
   "cell_type": "markdown",
   "metadata": {},
   "source": [
    "### 4.\tWrite a Python Program to Split the array and add the first part to the end?"
   ]
  },
  {
   "cell_type": "code",
   "execution_count": 79,
   "metadata": {},
   "outputs": [],
   "source": [
    "def split_array(arr, size):\n",
    "    temp = arr[0:size]\n",
    "    for i in range(size):\n",
    "        arr.pop(0)\n",
    "    arr.extend(temp)\n",
    "    return arr"
   ]
  },
  {
   "cell_type": "code",
   "execution_count": 82,
   "metadata": {},
   "outputs": [
    {
     "data": {
      "text/plain": [
       "[5, 6, 52, 36, 12, 10]"
      ]
     },
     "execution_count": 82,
     "metadata": {},
     "output_type": "execute_result"
    }
   ],
   "source": [
    "split_array([12, 10, 5, 6, 52, 36], 2)"
   ]
  },
  {
   "cell_type": "code",
   "execution_count": 157,
   "metadata": {},
   "outputs": [],
   "source": [
    "def monotonic_check(arr):\n",
    "    increase = decrease = 0\n",
    "    \n",
    "    for i in range(len(arr)-1):\n",
    "        if arr[i] <= arr[i+1]:\n",
    "            increase += 1\n",
    "        \n",
    "    for i in range(len(arr)-1):\n",
    "        if arr[i] >= arr[i+1]:\n",
    "            decrease += 1\n",
    "    \n",
    "    if increase+1 == len(arr):\n",
    "        return \"monotone increasing\"\n",
    "    elif decrease+1 == len(arr):\n",
    "        return \"monotone decreasing\"\n",
    "    else:\n",
    "        return \"its not monotonic in nature\"  "
   ]
  },
  {
   "cell_type": "code",
   "execution_count": 158,
   "metadata": {},
   "outputs": [
    {
     "data": {
      "text/plain": [
       "'monotone decreasing'"
      ]
     },
     "execution_count": 158,
     "metadata": {},
     "output_type": "execute_result"
    }
   ],
   "source": [
    "monotonic_check([6,5,4,4])"
   ]
  },
  {
   "cell_type": "code",
   "execution_count": 159,
   "metadata": {},
   "outputs": [
    {
     "data": {
      "text/plain": [
       "'monotone increasing'"
      ]
     },
     "execution_count": 159,
     "metadata": {},
     "output_type": "execute_result"
    }
   ],
   "source": [
    "monotonic_check([1,3,3,4])"
   ]
  },
  {
   "cell_type": "code",
   "execution_count": 163,
   "metadata": {},
   "outputs": [
    {
     "data": {
      "text/plain": [
       "'its not monotonic in nature'"
      ]
     },
     "execution_count": 163,
     "metadata": {},
     "output_type": "execute_result"
    }
   ],
   "source": [
    "monotonic_check([100,59,50,400])"
   ]
  },
  {
   "cell_type": "code",
   "execution_count": null,
   "metadata": {},
   "outputs": [],
   "source": []
  },
  {
   "cell_type": "code",
   "execution_count": null,
   "metadata": {},
   "outputs": [],
   "source": []
  }
 ],
 "metadata": {
  "kernelspec": {
   "display_name": "Python 3",
   "language": "python",
   "name": "python3"
  },
  "language_info": {
   "codemirror_mode": {
    "name": "ipython",
    "version": 3
   },
   "file_extension": ".py",
   "mimetype": "text/x-python",
   "name": "python",
   "nbconvert_exporter": "python",
   "pygments_lexer": "ipython3",
   "version": "3.8.3"
  }
 },
 "nbformat": 4,
 "nbformat_minor": 4
}

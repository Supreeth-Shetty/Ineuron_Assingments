{
 "cells": [
  {
   "cell_type": "markdown",
   "metadata": {},
   "source": [
    "### 1.\tWrite a Python Program to Find LCM?"
   ]
  },
  {
   "cell_type": "code",
   "execution_count": 1,
   "metadata": {},
   "outputs": [],
   "source": [
    "import pyinputplus as pyip\n",
    "def find_lcm():\n",
    "    a = pyip.inputInt(\"Enter a integer :\")\n",
    "    b = pyip.inputInt(\"Enter a integer :\")\n",
    "    if a>b:\n",
    "        max = a\n",
    "    else:\n",
    "        max = b\n",
    "    while(True):\n",
    "        if(max % a == 0 and max % b == 0):\n",
    "            lcm = max\n",
    "            break\n",
    "        max = max + 1\n",
    "    return lcm"
   ]
  },
  {
   "cell_type": "code",
   "execution_count": 2,
   "metadata": {},
   "outputs": [
    {
     "name": "stdout",
     "output_type": "stream",
     "text": [
      "Enter a integer :10\n",
      "Enter a integer :20\n"
     ]
    },
    {
     "data": {
      "text/plain": [
       "20"
      ]
     },
     "execution_count": 2,
     "metadata": {},
     "output_type": "execute_result"
    }
   ],
   "source": [
    "find_lcm()"
   ]
  },
  {
   "cell_type": "markdown",
   "metadata": {},
   "source": [
    "### 2.\tWrite a Python Program to Find HCF?"
   ]
  },
  {
   "cell_type": "code",
   "execution_count": 3,
   "metadata": {},
   "outputs": [],
   "source": [
    "def find_hcf():\n",
    "    a = pyip.inputInt(\"Enter a integer :\")\n",
    "    b = pyip.inputInt(\"Enter a integer :\")\n",
    "    i = 1\n",
    "    while(i<=a and i<=b):\n",
    "        if(a % i == 0 and b % i == 0):\n",
    "            hcf = i\n",
    "        i = i+1\n",
    "\n",
    "    return hcf"
   ]
  },
  {
   "cell_type": "code",
   "execution_count": 5,
   "metadata": {},
   "outputs": [
    {
     "name": "stdout",
     "output_type": "stream",
     "text": [
      "Enter a integer :26\n",
      "Enter a integer :30\n"
     ]
    },
    {
     "data": {
      "text/plain": [
       "2"
      ]
     },
     "execution_count": 5,
     "metadata": {},
     "output_type": "execute_result"
    }
   ],
   "source": [
    "find_hcf()"
   ]
  },
  {
   "cell_type": "markdown",
   "metadata": {},
   "source": [
    "### 3.\tWrite a Python Program to Convert Decimal to Binary, Octal and Hexadecimal?"
   ]
  },
  {
   "cell_type": "code",
   "execution_count": 13,
   "metadata": {},
   "outputs": [],
   "source": [
    "def convert_dec():\n",
    "    dec = pyip.inputNum(\"Enter a number:\")\n",
    "    binary = bin(dec)\n",
    "    octal = oct(dec)\n",
    "    hexa = hex(dec)\n",
    "    return (f\"the binary, octal, hexadecimal of {dec} is\", binary, octal, hexa)"
   ]
  },
  {
   "cell_type": "code",
   "execution_count": 14,
   "metadata": {},
   "outputs": [
    {
     "name": "stdout",
     "output_type": "stream",
     "text": [
      "Enter a number:35\n"
     ]
    },
    {
     "data": {
      "text/plain": [
       "('the binary, octal, hexadecimal of 35 is', '0b100011', '0o43', '0x23')"
      ]
     },
     "execution_count": 14,
     "metadata": {},
     "output_type": "execute_result"
    }
   ],
   "source": [
    "convert_dec()"
   ]
  },
  {
   "cell_type": "markdown",
   "metadata": {},
   "source": [
    "### 4.\tWrite a Python Program To Find ASCII value of a character?"
   ]
  },
  {
   "cell_type": "code",
   "execution_count": 21,
   "metadata": {},
   "outputs": [],
   "source": [
    "def ascii_val():\n",
    "    char = input(\"enter a character\")\n",
    "    return F\"ascii value of {char} is\", ord(char)"
   ]
  },
  {
   "cell_type": "code",
   "execution_count": 24,
   "metadata": {},
   "outputs": [
    {
     "name": "stdout",
     "output_type": "stream",
     "text": [
      "enter a charactera\n"
     ]
    },
    {
     "data": {
      "text/plain": [
       "('ascii value of a is', 97)"
      ]
     },
     "execution_count": 24,
     "metadata": {},
     "output_type": "execute_result"
    }
   ],
   "source": [
    "ascii_val()"
   ]
  },
  {
   "cell_type": "code",
   "execution_count": 25,
   "metadata": {},
   "outputs": [
    {
     "name": "stdout",
     "output_type": "stream",
     "text": [
      "enter a characterA\n"
     ]
    },
    {
     "data": {
      "text/plain": [
       "('ascii value of A is', 65)"
      ]
     },
     "execution_count": 25,
     "metadata": {},
     "output_type": "execute_result"
    }
   ],
   "source": [
    "ascii_val()"
   ]
  },
  {
   "cell_type": "markdown",
   "metadata": {},
   "source": [
    "### 5.\tWrite a Python Program to Make a Simple Calculator with 4 basic mathematical operations?"
   ]
  },
  {
   "cell_type": "code",
   "execution_count": 36,
   "metadata": {},
   "outputs": [],
   "source": [
    "def calculator():\n",
    "    num1 = pyip.inputNum(\"enter num1 :\")\n",
    "    num2 = pyip.inputNum(\"enter num2 :\")\n",
    "    operation = input(\"select operation(add,sub,div,mul) :\")\n",
    "\n",
    "    if operation == 'add':\n",
    "        return f\"adding {num1} to {num2} is {num1+num2}\"\n",
    "    if operation == 'sub':\n",
    "        return f\"subraction of {num1} from {num2} is {num1-num2}\"\n",
    "    if operation == 'div':\n",
    "        return f\"dividing {num1} from {num2} is {num1/num2}\"\n",
    "    if operation == 'mul':\n",
    "        return f\"multiplying {num1} with {num2} is {num1+num2}\"\n",
    "    "
   ]
  },
  {
   "cell_type": "code",
   "execution_count": 37,
   "metadata": {},
   "outputs": [
    {
     "name": "stdout",
     "output_type": "stream",
     "text": [
      "enter num1 :20\n",
      "enter num2 :30\n",
      "select operation(add,sub,div,mul) :div\n"
     ]
    },
    {
     "data": {
      "text/plain": [
       "'dividing 20 from 30 is 0.6666666666666666'"
      ]
     },
     "execution_count": 37,
     "metadata": {},
     "output_type": "execute_result"
    }
   ],
   "source": [
    "calculator()"
   ]
  },
  {
   "cell_type": "code",
   "execution_count": null,
   "metadata": {},
   "outputs": [],
   "source": []
  }
 ],
 "metadata": {
  "kernelspec": {
   "display_name": "Python 3",
   "language": "python",
   "name": "python3"
  },
  "language_info": {
   "codemirror_mode": {
    "name": "ipython",
    "version": 3
   },
   "file_extension": ".py",
   "mimetype": "text/x-python",
   "name": "python",
   "nbconvert_exporter": "python",
   "pygments_lexer": "ipython3",
   "version": "3.8.3"
  }
 },
 "nbformat": 4,
 "nbformat_minor": 4
}

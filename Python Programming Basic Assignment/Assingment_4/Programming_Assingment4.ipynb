{
 "cells": [
  {
   "cell_type": "markdown",
   "metadata": {},
   "source": [
    "### 1.\tWrite a Python Program to Find the Factorial of a Number?"
   ]
  },
  {
   "cell_type": "code",
   "execution_count": 107,
   "metadata": {},
   "outputs": [],
   "source": [
    "import pyinputplus as pyip\n",
    "\n",
    "def factorial():\n",
    "    n = pyip.inputInt(\"Enter a number\")\n",
    "    f = 1\n",
    "    if n > 0:\n",
    "        for i in range(n):\n",
    "            f = f*(n-i)\n",
    "        return f\"factorial of {n} is {f}\"\n",
    "    else:\n",
    "        return \"factorial does not exist for negative numbers\""
   ]
  },
  {
   "cell_type": "code",
   "execution_count": 108,
   "metadata": {},
   "outputs": [
    {
     "name": "stdout",
     "output_type": "stream",
     "text": [
      "Enter a numbera\n",
      "'a' is not an integer.\n",
      "Enter a number2.1\n",
      "'2.1' is not an integer.\n",
      "Enter a number5.1\n",
      "'5.1' is not an integer.\n",
      "Enter a number5\n"
     ]
    },
    {
     "data": {
      "text/plain": [
       "'factorial of 5 is 120'"
      ]
     },
     "execution_count": 108,
     "metadata": {},
     "output_type": "execute_result"
    }
   ],
   "source": [
    "factorial()"
   ]
  },
  {
   "cell_type": "markdown",
   "metadata": {},
   "source": [
    "### 2.\tWrite a Python Program to Display the multiplication Table?"
   ]
  },
  {
   "cell_type": "code",
   "execution_count": 121,
   "metadata": {},
   "outputs": [],
   "source": [
    "def tables():\n",
    "    n = pyip.inputInt(\"Which table you want me to display :\")\n",
    "    for i in range(1,11):\n",
    "        print(f\"{n} x {i} = {n*i}\")"
   ]
  },
  {
   "cell_type": "code",
   "execution_count": 122,
   "metadata": {},
   "outputs": [
    {
     "name": "stdout",
     "output_type": "stream",
     "text": [
      "Which table you want me to display :-10\n",
      "-10 x 1 = -10\n",
      "-10 x 2 = -20\n",
      "-10 x 3 = -30\n",
      "-10 x 4 = -40\n",
      "-10 x 5 = -50\n",
      "-10 x 6 = -60\n",
      "-10 x 7 = -70\n",
      "-10 x 8 = -80\n",
      "-10 x 9 = -90\n",
      "-10 x 10 = -100\n"
     ]
    }
   ],
   "source": [
    "tables()"
   ]
  },
  {
   "cell_type": "markdown",
   "metadata": {},
   "source": [
    "### 3.\tWrite a Python Program to Print the Fibonacci sequence?"
   ]
  },
  {
   "cell_type": "code",
   "execution_count": 124,
   "metadata": {},
   "outputs": [],
   "source": [
    "def fibonacci():\n",
    "    n = pyip.inputInt(\"enter a number : \")\n",
    "    f = []\n",
    "    count = 0\n",
    "    for i in range(n):\n",
    "        if count < 2:\n",
    "            f.append(i)\n",
    "            count += 1\n",
    "        else:\n",
    "            f.append(f[-1]+f[-2])\n",
    "            count += 1\n",
    "    return f\n",
    "        "
   ]
  },
  {
   "cell_type": "code",
   "execution_count": 125,
   "metadata": {},
   "outputs": [
    {
     "name": "stdout",
     "output_type": "stream",
     "text": [
      "enter a number : -1\n"
     ]
    },
    {
     "data": {
      "text/plain": [
       "[]"
      ]
     },
     "execution_count": 125,
     "metadata": {},
     "output_type": "execute_result"
    }
   ],
   "source": [
    "fibonacci()"
   ]
  },
  {
   "cell_type": "markdown",
   "metadata": {},
   "source": [
    "### 4.\tWrite a Python Program to Check Armstrong Number?`"
   ]
  },
  {
   "cell_type": "code",
   "execution_count": 201,
   "metadata": {},
   "outputs": [],
   "source": [
    "def amrstrong():\n",
    "    n = pyip.inputInt(\"enter a number : \")\n",
    "    n_copy = str(n)\n",
    "    if n == 0 or n > 9:\n",
    "        total = [(int(i)**len(n_copy)) for i in n_copy]\n",
    "        if sum(total) == n:\n",
    "            print(f\"{n_copy} is a armstrong number\")\n",
    "        else:\n",
    "            print(f\"{n_copy} is not a armstrong number\")\n",
    "    else:\n",
    "        print(\"No negetive and single digit armstrong number\")"
   ]
  },
  {
   "cell_type": "code",
   "execution_count": 203,
   "metadata": {},
   "outputs": [
    {
     "name": "stdout",
     "output_type": "stream",
     "text": [
      "enter a number : 1\n",
      "No negetive and single digit armstrong number\n"
     ]
    }
   ],
   "source": [
    "amrstrong()"
   ]
  },
  {
   "cell_type": "markdown",
   "metadata": {},
   "source": [
    "### 5.\tWrite a Python Program to Find Armstrong Number in an Interval?"
   ]
  },
  {
   "cell_type": "code",
   "execution_count": 204,
   "metadata": {},
   "outputs": [],
   "source": [
    "def amrstrong_range():\n",
    "    n1 = pyip.inputInt(\"enter a number : \")\n",
    "    n2 = pyip.inputInt(\"enter a number : \")\n",
    "    arm = []\n",
    "    for i in range(n1,n2+1):\n",
    "        if i == 0 or i > 9:\n",
    "            n_copy = str(i)\n",
    "            total = [(int(i)**len(n_copy)) for i in n_copy]\n",
    "            if sum(total) == i:\n",
    "                arm.append(i)\n",
    "    return arm"
   ]
  },
  {
   "cell_type": "code",
   "execution_count": 206,
   "metadata": {},
   "outputs": [
    {
     "name": "stdout",
     "output_type": "stream",
     "text": [
      "enter a number : 0\n",
      "enter a number : 10000\n"
     ]
    },
    {
     "data": {
      "text/plain": [
       "[0, 153, 370, 371, 407, 1634, 8208, 9474]"
      ]
     },
     "execution_count": 206,
     "metadata": {},
     "output_type": "execute_result"
    }
   ],
   "source": [
    "amrstrong_range()"
   ]
  },
  {
   "cell_type": "markdown",
   "metadata": {},
   "source": []
  },
  {
   "cell_type": "markdown",
   "metadata": {},
   "source": [
    "### 6.\tWrite a Python Program to Find the Sum of Natural Numbers?"
   ]
  },
  {
   "cell_type": "code",
   "execution_count": 214,
   "metadata": {},
   "outputs": [],
   "source": [
    "def sum_natrural():\n",
    "    n = pyip.inputInt(\"enter a number : \")\n",
    "    sum_ = 0\n",
    "    while n>0:\n",
    "        for i in range(n+1):\n",
    "            sum_ = sum_+i\n",
    "            n -= 1\n",
    "    return sum_\n",
    "    "
   ]
  },
  {
   "cell_type": "code",
   "execution_count": 223,
   "metadata": {},
   "outputs": [
    {
     "name": "stdout",
     "output_type": "stream",
     "text": [
      "enter a number : 100\n"
     ]
    },
    {
     "data": {
      "text/plain": [
       "5050"
      ]
     },
     "execution_count": 223,
     "metadata": {},
     "output_type": "execute_result"
    }
   ],
   "source": [
    "sum_natrural()"
   ]
  },
  {
   "cell_type": "code",
   "execution_count": null,
   "metadata": {},
   "outputs": [],
   "source": []
  },
  {
   "cell_type": "code",
   "execution_count": null,
   "metadata": {},
   "outputs": [],
   "source": []
  }
 ],
 "metadata": {
  "kernelspec": {
   "display_name": "Python 3",
   "language": "python",
   "name": "python3"
  },
  "language_info": {
   "codemirror_mode": {
    "name": "ipython",
    "version": 3
   },
   "file_extension": ".py",
   "mimetype": "text/x-python",
   "name": "python",
   "nbconvert_exporter": "python",
   "pygments_lexer": "ipython3",
   "version": "3.8.3"
  }
 },
 "nbformat": 4,
 "nbformat_minor": 4
}

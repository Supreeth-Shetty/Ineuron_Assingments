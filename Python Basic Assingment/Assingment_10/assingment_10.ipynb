{
 "cells": [
  {
   "cell_type": "markdown",
   "metadata": {},
   "source": [
    "### 1. How do you distinguish between shutil.copy() and shutil.copytree()?"
   ]
  },
  {
   "cell_type": "markdown",
   "metadata": {},
   "source": [
    "### While shutil. copy() will copy a single file, shutil. copytree() will copy an entire folder and every folder and file contained in it."
   ]
  },
  {
   "cell_type": "code",
   "execution_count": null,
   "metadata": {},
   "outputs": [],
   "source": []
  },
  {
   "cell_type": "markdown",
   "metadata": {},
   "source": [
    "### 2. What function is used to rename files??"
   ]
  },
  {
   "cell_type": "markdown",
   "metadata": {},
   "source": [
    "### We use the shutil (or shell utilities) module. Calling shutil.move(source, destination) will move the file or folder at the path source to the path destination and will return a string of the absolute path of the new location."
   ]
  },
  {
   "cell_type": "markdown",
   "metadata": {},
   "source": [
    "### import shutil\n",
    "### shutil.move('a.txt', 'b.txt')"
   ]
  },
  {
   "cell_type": "markdown",
   "metadata": {},
   "source": [
    "### OR"
   ]
  },
  {
   "cell_type": "markdown",
   "metadata": {},
   "source": [
    "### You can use os module's rename method. For example, you want to rename a file from a.txt to b.txt with these files present in your current directory,\n",
    "\n",
    "### import os\n",
    "### os.rename('a.txt', 'b.txt')"
   ]
  },
  {
   "cell_type": "code",
   "execution_count": null,
   "metadata": {},
   "outputs": [],
   "source": []
  },
  {
   "cell_type": "markdown",
   "metadata": {},
   "source": [
    "### 3. What is the difference between the delete functions in the send2trash and shutil modules?"
   ]
  },
  {
   "cell_type": "markdown",
   "metadata": {},
   "source": [
    "### The send2trash functions will move a file or folder to the recycle bin, while shutil functions will permanently delete files and folders."
   ]
  },
  {
   "cell_type": "code",
   "execution_count": null,
   "metadata": {},
   "outputs": [],
   "source": []
  },
  {
   "cell_type": "markdown",
   "metadata": {},
   "source": [
    "### 4.ZipFile objects have a close() method just like File objects’ close() method. What ZipFile method is equivalent to File objects’ open() method?"
   ]
  },
  {
   "cell_type": "markdown",
   "metadata": {},
   "source": [
    "### zipfile.open is same as file.open()\n",
    "### zipfile.close is same as file.close()\n",
    "### zipfile.read() is same as file.read()"
   ]
  },
  {
   "cell_type": "code",
   "execution_count": null,
   "metadata": {},
   "outputs": [],
   "source": []
  },
  {
   "cell_type": "markdown",
   "metadata": {},
   "source": [
    "### 5. Create a programme that searches a folder tree for files with a certain file extension (such as .pdf or .jpg). Copy these files from whatever location they are in to a new folder."
   ]
  },
  {
   "cell_type": "code",
   "execution_count": null,
   "metadata": {},
   "outputs": [],
   "source": []
  },
  {
   "cell_type": "code",
   "execution_count": 54,
   "metadata": {},
   "outputs": [],
   "source": [
    "import shutil\n",
    "import os\n",
    "def selective_copy(source, extension, destination):\n",
    "        src_folder = os.path.abspath(source)\n",
    "        dest_folder = os.path.abspath(destination)\n",
    "        for folder, sub_folder, file_names in os.walk(src_folder):\n",
    "            for file in file_names:\n",
    "                name, extension = os.path.splitext(file)\n",
    "                if extension in extensions:\n",
    "                    file_path = folder+'\\\\'+file\n",
    "                    shutil.copy(file_path, destination)\n",
    "                    print(f'copied {file} to {dest_folder}')"
   ]
  },
  {
   "cell_type": "code",
   "execution_count": 59,
   "metadata": {},
   "outputs": [],
   "source": [
    "extensions = ['.json', '.ipynb']\n",
    "source = 'C:/Users/supreesh/Desktop/Data_Science@Ineuron/CLass'\n",
    "destination = 'C:/Users/supreesh/Desktop/Data_Science@Ineuron/New folder'\n"
   ]
  },
  {
   "cell_type": "code",
   "execution_count": 60,
   "metadata": {},
   "outputs": [
    {
     "name": "stdout",
     "output_type": "stream",
     "text": [
      "copied 04_Functions_2_(03-Apr-2021).ipynb to C:\\Users\\supreesh\\Desktop\\Data_Science@Ineuron\\New folder\n",
      "copied 05_LOGGING_DEBUGGING_(04-Apr-2021).ipynb to C:\\Users\\supreesh\\Desktop\\Data_Science@Ineuron\\New folder\n",
      "copied 20_mar_2021.ipynb to C:\\Users\\supreesh\\Desktop\\Data_Science@Ineuron\\New folder\n",
      "copied 21_mar_2021 (functions).ipynb to C:\\Users\\supreesh\\Desktop\\Data_Science@Ineuron\\New folder\n",
      "copied Assingment.ipynb to C:\\Users\\supreesh\\Desktop\\Data_Science@Ineuron\\New folder\n",
      "copied Casandra-(22-may-2021).ipynb to C:\\Users\\supreesh\\Desktop\\Data_Science@Ineuron\\New folder\n",
      "copied database with python-(15-may-2021).ipynb to C:\\Users\\supreesh\\Desktop\\Data_Science@Ineuron\\New folder\n",
      "copied MongoDB with python 16-may-2021.ipynb to C:\\Users\\supreesh\\Desktop\\Data_Science@Ineuron\\New folder\n",
      "copied new_states.json to C:\\Users\\supreesh\\Desktop\\Data_Science@Ineuron\\New folder\n",
      "copied oop.ipynb to C:\\Users\\supreesh\\Desktop\\Data_Science@Ineuron\\New folder\n",
      "copied OOPS-(08-may-2021).ipynb to C:\\Users\\supreesh\\Desktop\\Data_Science@Ineuron\\New folder\n",
      "copied oops_(09-may-2021).ipynb to C:\\Users\\supreesh\\Desktop\\Data_Science@Ineuron\\New folder\n",
      "copied states.json to C:\\Users\\supreesh\\Desktop\\Data_Science@Ineuron\\New folder\n",
      "copied Untitled.ipynb to C:\\Users\\supreesh\\Desktop\\Data_Science@Ineuron\\New folder\n",
      "copied Untitled1.ipynb to C:\\Users\\supreesh\\Desktop\\Data_Science@Ineuron\\New folder\n",
      "copied Untitled2.ipynb to C:\\Users\\supreesh\\Desktop\\Data_Science@Ineuron\\New folder\n",
      "copied Untitled3.ipynb to C:\\Users\\supreesh\\Desktop\\Data_Science@Ineuron\\New folder\n",
      "copied 04_Functions_2_(03-Apr-2021)-checkpoint.ipynb to C:\\Users\\supreesh\\Desktop\\Data_Science@Ineuron\\New folder\n",
      "copied 05_LOGGING_DEBUGGING_(04-Apr-2021)-checkpoint.ipynb to C:\\Users\\supreesh\\Desktop\\Data_Science@Ineuron\\New folder\n",
      "copied 20_mar_2021-checkpoint.ipynb to C:\\Users\\supreesh\\Desktop\\Data_Science@Ineuron\\New folder\n",
      "copied 21_mar_2021 (functions)-checkpoint.ipynb to C:\\Users\\supreesh\\Desktop\\Data_Science@Ineuron\\New folder\n",
      "copied Assignment_7-checkpoint.ipynb to C:\\Users\\supreesh\\Desktop\\Data_Science@Ineuron\\New folder\n",
      "copied Assignment_8-checkpoint.ipynb to C:\\Users\\supreesh\\Desktop\\Data_Science@Ineuron\\New folder\n",
      "copied Assignment_9-checkpoint.ipynb to C:\\Users\\supreesh\\Desktop\\Data_Science@Ineuron\\New folder\n",
      "copied Assingment 3-checkpoint.ipynb to C:\\Users\\supreesh\\Desktop\\Data_Science@Ineuron\\New folder\n",
      "copied Assingment-4-checkpoint.ipynb to C:\\Users\\supreesh\\Desktop\\Data_Science@Ineuron\\New folder\n",
      "copied Assingment-5-checkpoint.ipynb to C:\\Users\\supreesh\\Desktop\\Data_Science@Ineuron\\New folder\n",
      "copied Assingment-6-checkpoint.ipynb to C:\\Users\\supreesh\\Desktop\\Data_Science@Ineuron\\New folder\n",
      "copied Assingment-checkpoint.ipynb to C:\\Users\\supreesh\\Desktop\\Data_Science@Ineuron\\New folder\n",
      "copied Casandra-(22-may-2021)-checkpoint.ipynb to C:\\Users\\supreesh\\Desktop\\Data_Science@Ineuron\\New folder\n",
      "copied database with python-(15-may-2021)-checkpoint.ipynb to C:\\Users\\supreesh\\Desktop\\Data_Science@Ineuron\\New folder\n",
      "copied Functions-(08-may-2021)-checkpoint.ipynb to C:\\Users\\supreesh\\Desktop\\Data_Science@Ineuron\\New folder\n",
      "copied MongoDB with python 16-may-2021-checkpoint.ipynb to C:\\Users\\supreesh\\Desktop\\Data_Science@Ineuron\\New folder\n",
      "copied oop-checkpoint.ipynb to C:\\Users\\supreesh\\Desktop\\Data_Science@Ineuron\\New folder\n",
      "copied OOPS-(08-may-2021)-checkpoint.ipynb to C:\\Users\\supreesh\\Desktop\\Data_Science@Ineuron\\New folder\n",
      "copied oops_(09-may-2021)-checkpoint.ipynb to C:\\Users\\supreesh\\Desktop\\Data_Science@Ineuron\\New folder\n",
      "copied Untitled-checkpoint.ipynb to C:\\Users\\supreesh\\Desktop\\Data_Science@Ineuron\\New folder\n",
      "copied Untitled1-checkpoint.ipynb to C:\\Users\\supreesh\\Desktop\\Data_Science@Ineuron\\New folder\n",
      "copied Untitled2-checkpoint.ipynb to C:\\Users\\supreesh\\Desktop\\Data_Science@Ineuron\\New folder\n",
      "copied Untitled3-checkpoint.ipynb to C:\\Users\\supreesh\\Desktop\\Data_Science@Ineuron\\New folder\n",
      "copied 19.2.MySQL.ipynb to C:\\Users\\supreesh\\Desktop\\Data_Science@Ineuron\\New folder\n",
      "copied 19.2.MySQL-checkpoint.ipynb to C:\\Users\\supreesh\\Desktop\\Data_Science@Ineuron\\New folder\n",
      "copied Untitled.ipynb to C:\\Users\\supreesh\\Desktop\\Data_Science@Ineuron\\New folder\n",
      "copied Untitled-checkpoint.ipynb to C:\\Users\\supreesh\\Desktop\\Data_Science@Ineuron\\New folder\n",
      "copied new_states.json to C:\\Users\\supreesh\\Desktop\\Data_Science@Ineuron\\New folder\n",
      "copied states.json to C:\\Users\\supreesh\\Desktop\\Data_Science@Ineuron\\New folder\n",
      "copied File handling.ipynb to C:\\Users\\supreesh\\Desktop\\Data_Science@Ineuron\\New folder\n",
      "copied File handling-checkpoint.ipynb to C:\\Users\\supreesh\\Desktop\\Data_Science@Ineuron\\New folder\n",
      "copy complete\n"
     ]
    }
   ],
   "source": [
    "try:\n",
    "    selective_copy(source, extensions, destination)\n",
    "except Exception as e:\n",
    "    print(e)\n",
    "else:\n",
    "    print('copy complete')\n"
   ]
  },
  {
   "cell_type": "code",
   "execution_count": null,
   "metadata": {},
   "outputs": [],
   "source": []
  },
  {
   "cell_type": "code",
   "execution_count": null,
   "metadata": {},
   "outputs": [],
   "source": []
  },
  {
   "cell_type": "code",
   "execution_count": null,
   "metadata": {},
   "outputs": [],
   "source": []
  }
 ],
 "metadata": {
  "kernelspec": {
   "display_name": "Python 3",
   "language": "python",
   "name": "python3"
  },
  "language_info": {
   "codemirror_mode": {
    "name": "ipython",
    "version": 3
   },
   "file_extension": ".py",
   "mimetype": "text/x-python",
   "name": "python",
   "nbconvert_exporter": "python",
   "pygments_lexer": "ipython3",
   "version": "3.8.3"
  }
 },
 "nbformat": 4,
 "nbformat_minor": 4
}

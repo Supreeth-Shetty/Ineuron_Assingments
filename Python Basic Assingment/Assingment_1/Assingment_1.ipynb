
Write a Python program to print "Hello Python"?




In [1]:































1
def hello_python():



2
    return("Hello Python")












In [2]:































1
hello_python()









Out[2]:

'Hello Python'










































2. Write a Python program to do arithmetical operations addition and division.?




In [53]:































1
def arithmetical_operations(operation, *args):



2
    add = []



3
    if operation == 'add':



4
        return "The addition of numbers are:",sum(args)



5
    elif operation == "div":



6
        div = args[0]



7
        for i in range(1,len(args)):



8
            div =  div/args[i]



9
        return "The division of given numbers are:",div












In [54]:































1
arithmetical_operations('div', 10,5,2,2,2)









Out[54]:

('The division of given numbers are:', 0.25)






In [8]:































1
​
















































3. Write a Python program to find the area of a triangle?




In [57]:































1
#area of triangle = 1/2 * base * height



2
def area_of_triangle():



3
    base = float(input("Enter base of triangle: "))



4
    height = float(input("Enter height of triangle: "))



5
    return "Area of triangle is", 0.5 * base * height












In [58]:































1
area_of_triangle()










Enter base of triangle: 10
Enter height of triangle: 20




Out[58]:

('Area of triangle is', 100.0)






In [ ]:































1
​
















































4. Write a Python program to swap two variables?




In [59]:































1
def swap_var(var1, var2):



2
    print("var1 value entered is", var1)



3
    print("var2 value entered is", var2)



4
    temp = var1



5
    var1 = var2



6
    var2 = temp



7
    print("var1 value after swapping is", var1)



8
    print("var2 value after swapping", var2)












In [61]:































1
swap_var(100,202)










var1 value entered is 100
var2 value entered is 202
var1 value after swapping is 202
var2 value after swapping 100







In [ ]:

































1
​
















































5. Write a Python program to generate a random number?




In [79]:































1
import random



2
def rand_num():



3
    n = random.randint(0,100)



4
    return n












In [90]:































1
rand_num()
